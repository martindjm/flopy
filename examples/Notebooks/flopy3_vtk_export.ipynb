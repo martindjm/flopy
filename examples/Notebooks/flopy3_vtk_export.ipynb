{
 "cells": [
  {
   "cell_type": "code",
   "execution_count": null,
   "metadata": {},
   "outputs": [],
   "source": [
    "import os\n",
    "import sys\n",
    "import matplotlib as mpl\n",
    "import matplotlib.pyplot as plt\n",
    "import numpy as np\n",
    "\n",
    "\n",
    "try:\n",
    "    import flopy\n",
    "except:\n",
    "    fpth = os.path.abspath(os.path.join('..', '..'))\n",
    "    sys.path.append(fpth)\n",
    "    import flopy\n",
    "    \n",
    "from flopy.export import vtk\n",
    "    \n",
    "print(sys.version)\n",
    "print('flopy version: {}'.format(flopy.__version__))"
   ]
  },
  {
   "cell_type": "code",
   "execution_count": null,
   "metadata": {},
   "outputs": [],
   "source": [
    "# load model for examples\n",
    "nam_file = \"freyberg.nam\"\n",
    "model_ws = os.path.join(\"..\", \"data\", \"freyberg_multilayer_transient\")\n",
    "ml = flopy.modflow.Modflow.load(nam_file, model_ws=model_ws, check=False)"
   ]
  },
  {
   "cell_type": "code",
   "execution_count": null,
   "metadata": {},
   "outputs": [],
   "source": [
    "# output folder to store the outputs from the notebook\n",
    "workspace = os.path.join(\".\", \"VTK_EXAMPLE_OUTPUTS\")\n",
    "if not os.path.exists(workspace):\n",
    "    os.mkdir(workspace)"
   ]
  },
  {
   "cell_type": "code",
   "execution_count": null,
   "metadata": {},
   "outputs": [],
   "source": [
    "# for all export calls a folder is give and the the fmt flag is set to 'vtk'\n",
    "# to initiate vtk export. Outputs are writtent to the provided folder.\n",
    "# if it does not exist one will be created."
   ]
  },
  {
   "cell_type": "code",
   "execution_count": null,
   "metadata": {},
   "outputs": [],
   "source": [
    "# export arrays\n",
    "# 2d array export\n",
    "# export model top\n",
    "# **kwargs: smooth: True creates a smooth surface\n",
    "#  point_scalars: True creates scalar data values on vertices as well as cells\n",
    "        # this automatically turns on smoothing\n",
    "#  name: the name will be used for the output file and the scalar variable name\n",
    "ot_arrays_folder = os.path.join(workspace, 'arrays_test')\n",
    "if not os.path.exists(ot_arrays_folder):\n",
    "    os.mkdir(ot_arrays_folder)\n",
    "model_top_output = os.path.join(ot_arrays_folder, 'TOP_point')\n",
    "ml.dis.top.export(model_top_output, fmt='vtk', **{'smooth': False, 'point_scalars': True}) "
   ]
  },
  {
   "cell_type": "code",
   "execution_count": null,
   "metadata": {},
   "outputs": [],
   "source": [
    "# transient 2d array\n",
    "# export recharge for each stress period\n",
    "# **kwargs: smooth: True creates a smooth surface\n",
    "#  point_scalars: True creates scalar data values on vertices as well as cells\n",
    "        # this automatically turns on smoothing\n",
    "#  name: the name will be used for the output file and the scalar variable name\n",
    "model_recharge_output = os.path.join(ot_arrays_folder, 'RECH')\n",
    "ml.rch.rech.export(model_recharge_output, fmt='vtk')"
   ]
  },
  {
   "cell_type": "code",
   "execution_count": null,
   "metadata": {},
   "outputs": [],
   "source": [
    "# 3D Array export\n",
    "# export model bottoms\n",
    "# **kwargs: smooth: True creates a smooth surface\n",
    "#  point_scalars: True creates scalar data values on vertices as well as cells\n",
    "        # this automatically turns on smoothing\n",
    "#  name: the name will be used for the output file and the scalar variable name\n",
    "model_bottom_output = os.path.join(ot_arrays_folder, 'BOTM')\n",
    "ml.dis.botm.export(model_bottom_output, smooth=True, fmt='vtk')\n"
   ]
  },
  {
   "cell_type": "code",
   "execution_count": null,
   "metadata": {},
   "outputs": [],
   "source": [
    "# 3D Array export\n",
    "# export model bottoms\n",
    "model_hk_export = os.path.join(ot_arrays_folder, 'HK')\n",
    "ml.upw.hk.export(model_hk_export, smooth=True, fmt='vtk', name='HK')"
   ]
  },
  {
   "cell_type": "code",
   "execution_count": null,
   "metadata": {},
   "outputs": [],
   "source": [
    "# package export\n",
    "# **kwargs: smooth: True creates a smooth surface\n",
    "#  point_scalars: True creates scalar data values on vertices as well as cells\n",
    "        # this automatically turns on smoothing\n",
    "package_output = os.path.join(workspace, 'package_output_test')\n",
    "if not os.path.exists(package_output):\n",
    "    os.mkdir(package_output)\n",
    "# export dis\n",
    "dis_output = os.path.join(package_output, 'DIS')\n",
    "ml.dis.export(dis_output,  fmt='vtk')\n",
    "#export upw with point scalars\n",
    "upw_output = os.path.join(package_output, 'UPW')\n",
    "ml.upw.export(upw_output,  fmt='vtk', point_scalars=True)"
   ]
  },
  {
   "cell_type": "code",
   "execution_count": null,
   "metadata": {
    "scrolled": true
   },
   "outputs": [],
   "source": [
    "\n",
    "# model export\n",
    "# **kwargs: smooth: True creates a smooth surface\n",
    "#  point_scalars: True creates scalar data values on vertices as well as cells\n",
    "        # this automatically turns on smoothing\n",
    "model_output = os.path.join(workspace, 'model_output_test')\n",
    "ml.export(model_output, fmt='vtk')\n"
   ]
  },
  {
   "cell_type": "code",
   "execution_count": null,
   "metadata": {},
   "outputs": [],
   "source": []
  },
  {
   "cell_type": "code",
   "execution_count": null,
   "metadata": {},
   "outputs": [],
   "source": [
    "# export binary heads\n",
    "# args\n",
    "# export_heads(model, hdsfile, otfolder, kstplist=None, kperlist=None,\n",
    " #                smooth=False, point_scalars=False, nanval=-1e+20):\n",
    "# can limit time steps and stress periods with kstplist and kperlist\n",
    "heads_file = os.path.join(model_ws, 'freyberg.hds')\n",
    "heads_output_folder = os.path.join(workspace, 'heads_output_test')\n",
    "vtk.export_heads(ml, heads_file, heads_output_folder)\n",
    "# outputs a .pvd file that can be loaded into paraview to view the heads as time series"
   ]
  },
  {
   "cell_type": "code",
   "execution_count": null,
   "metadata": {},
   "outputs": [],
   "source": [
    "# export cbc file\n",
    "#export_cbc(model, cbcfile, otfolder, precision='single', kstplist=None,\n",
    "#               kperlist=None, keylist=None, smooth=False, point_scalars=False,\n",
    "#               nanval=-1e+20):\n",
    "cbc_file = os.path.join(model_ws, 'freyberg.cbc')\n",
    "cbc_output_folder = os.path.join(workspace, 'cbc_output_test')\n",
    "vtk.export_cbc(ml, cbc_file, cbc_output_folder)"
   ]
  },
  {
   "cell_type": "code",
   "execution_count": null,
   "metadata": {},
   "outputs": [],
   "source": [
    "# export heads with parameters\n",
    "heads_file = os.path.join(model_ws, 'freyberg.hds')\n",
    "heads_output_folder = os.path.join(workspace, 'heads_output_test_parameters')\n",
    "# kstp - time step\n",
    "# kperlist - list of stress periods to export\n",
    "# point_scalars - output heads as point values\n",
    "vtk.export_heads(ml, heads_file, heads_output_folder, kstplist=[1], kperlist=[10, 11, 12, 13, 14, 15], point_scalars=True)"
   ]
  },
  {
   "cell_type": "code",
   "execution_count": null,
   "metadata": {},
   "outputs": [],
   "source": [
    "cbc_file = os.path.join(model_ws, 'freyberg.cbc')\n",
    "cbc_output_folder = os.path.join(workspace, 'cbc_output_test_parameters')\n",
    "# kstp - time step\n",
    "# kperlist - list of stress periods to export\n",
    "# keylist - list of cbc terms to export\n",
    "vtk.export_cbc(ml, cbc_file, cbc_output_folder, kstplist=[1], kperlist=[10, 11, 12, 13, 14, 15],\n",
    "               keylist=['CONSTANT HEAD', 'STORAGE'])"
   ]
  },
  {
   "cell_type": "code",
   "execution_count": null,
   "metadata": {},
   "outputs": [],
   "source": []
  },
  {
   "cell_type": "code",
   "execution_count": null,
   "metadata": {},
   "outputs": [],
   "source": [
    "nam_file = \"mnw1.nam\"\n",
    "model_ws = os.path.join(\"..\", \"data\", \"mf2005_test\")\n",
    "ml = flopy.modflow.Modflow.load(nam_file, model_ws=model_ws, check=False)"
   ]
  },
  {
   "cell_type": "code",
   "execution_count": null,
   "metadata": {},
   "outputs": [],
   "source": [
    "ml.mnw1.export(os.path.join(workspace, 'mnw1_test'), fmt='vtk')"
   ]
  },
  {
   "cell_type": "code",
   "execution_count": null,
   "metadata": {},
   "outputs": [],
   "source": [
    "nam_file = \"lakeex3.nam\"\n",
    "model_ws = os.path.join(\"..\", \"data\", \"mf2005_test\")\n",
    "ml = flopy.modflow.Modflow.load(nam_file, model_ws=model_ws, check=False)\n",
    "ml.lak.export(os.path.join(workspace, 'lak_Test'), fmt='vtk')"
   ]
  },
  {
   "cell_type": "code",
   "execution_count": null,
   "metadata": {},
   "outputs": [],
   "source": []
  },
  {
   "cell_type": "code",
   "execution_count": null,
   "metadata": {},
   "outputs": [],
   "source": []
  },
  {
   "cell_type": "code",
   "execution_count": null,
   "metadata": {},
   "outputs": [],
   "source": []
  },
  {
   "cell_type": "code",
   "execution_count": null,
   "metadata": {},
   "outputs": [],
   "source": []
  },
  {
   "cell_type": "code",
   "execution_count": null,
   "metadata": {},
   "outputs": [],
   "source": []
  }
 ],
 "metadata": {
  "kernelspec": {
   "display_name": "Python 3",
   "language": "python",
   "name": "python3"
  },
  "language_info": {
   "codemirror_mode": {
    "name": "ipython",
    "version": 3
   },
   "file_extension": ".py",
   "mimetype": "text/x-python",
   "name": "python",
   "nbconvert_exporter": "python",
   "pygments_lexer": "ipython3",
   "version": "3.7.3"
  }
 },
 "nbformat": 4,
 "nbformat_minor": 2
}
